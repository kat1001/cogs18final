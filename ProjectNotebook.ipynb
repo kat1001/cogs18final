{
 "cells": [
  {
   "cell_type": "markdown",
   "metadata": {},
   "source": [
    "# Project Description"
   ]
  },
  {
   "cell_type": "markdown",
   "metadata": {},
   "source": [
    "Are you planning for an out of country trip? Looking to figure out how much money you need to have a comfortable trip? Getting stuck on currency conversion? Well this project is just the one for you!\n",
    "\n",
    "For my final project I have decided to make a currency converter. This program is able to convert your USD amount into any currency you can think as long as you know the 3 letter code for it. How this project works is it will ask you for your purpose for running the program. You'll be asked to make a selection either learn what the current exchange rate is or go ahead and convert your USD amount into a currency of your choice. Upon that selection you'll be asked what currency you are looking to get information for. Then the program will provide what you desire. Since this project pulls live exchange rates your results may vary day to day. After you have selected one option the next time you see the prompts you'll be able to quit if you must.\n",
    "\n",
    "I enjoyed making this project and honestly feel that I could continue to make it even better. I want to play around with it and get it to be able to convert any currency into any currency but I am not quite there yet. I do not have code to deal with non existing currency types or full names of currencies or any other inputs besides what is asked for so I appologize for those errors. Regardless thank you for taking the time to check this out!\n"
   ]
  },
  {
   "cell_type": "markdown",
   "metadata": {},
   "source": [
    "## Project Code\n",
    "\n",
    "If it makes sense for your project, you can have code and outputs here in the notebook as well."
   ]
  },
  {
   "cell_type": "code",
   "execution_count": null,
   "metadata": {},
   "outputs": [],
   "source": [
    "from my_module.functions import *\n",
    "from my_module.classes import *\n",
    "start()\n"
   ]
  },
  {
   "cell_type": "code",
   "execution_count": null,
   "metadata": {},
   "outputs": [],
   "source": [
    "# Do a bunch of things.\n"
   ]
  },
  {
   "cell_type": "markdown",
   "metadata": {},
   "source": [
    "#### Extra Credit (*optional*)\n",
    "\n",
    "\n",
    "1. I participated in a coding camp back in highschool very lightly as part of AP Computer Science Principles. Since then I have used block based python in PsychoPsy for cognitive science research.  \n",
    "\n",
    "2. I think my project went above the requirements because I included usage of an API and used functions not taught in class such as date and time . My original challenge came about because I originally tried to manually organize a dictionary with differing exchange rates for different days based on the most recent weekly data however I found this to be too messy. So I decided to figure out how I would be able to pull the actual exchange rate data from online tutorials which cleaned up my code and made a nice addition to the functionality of my code. I also could not figure out how to stop my code from running until right before the deadline."
   ]
  }
 ],
 "metadata": {
  "kernelspec": {
   "display_name": "Python 3",
   "language": "python",
   "name": "python3"
  },
  "language_info": {
   "codemirror_mode": {
    "name": "ipython",
    "version": 3
   },
   "file_extension": ".py",
   "mimetype": "text/x-python",
   "name": "python",
   "nbconvert_exporter": "python",
   "pygments_lexer": "ipython3",
   "version": "3.8.6"
  }
 },
 "nbformat": 4,
 "nbformat_minor": 2
}
